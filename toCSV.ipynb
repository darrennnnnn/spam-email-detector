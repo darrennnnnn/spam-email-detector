{
 "cells": [
  {
   "cell_type": "code",
   "execution_count": 16,
   "id": "3e71f4a9",
   "metadata": {},
   "outputs": [],
   "source": [
    "import pandas as pd\n",
    "import os\n",
    "\n",
    "# Paths to your folders containing txt files\n",
    "main_folder1 = 'enron1'\n",
    "main_folder2 = 'enron2'\n",
    "\n",
    "data = []\n",
    "\n",
    "# Function to read files from a folder and label as ham or spam\n",
    "def read_files_from_main_folder(main_folder, label):\n",
    "    for folder_name in os.listdir(main_folder):\n",
    "        folder_path = os.path.join(main_folder, folder_name)\n",
    "        if os.path.isdir(folder_path):\n",
    "            read_files(folder_path, label)\n",
    "\n",
    "# Function to read files from a folder and label as ham or spam\n",
    "def read_files(folder_path, label):\n",
    "    for filename in os.listdir(folder_path):\n",
    "        if filename.endswith('.txt'):\n",
    "            file_path = os.path.join(folder_path, filename)\n",
    "            \n",
    "            # Read each line from the file with 'latin-1' encoding\n",
    "            try:\n",
    "                with open(file_path, 'r', encoding='latin-1') as file:\n",
    "                    lines = file.readlines()\n",
    "                    \n",
    "                    # Assuming each line is a record, you can modify this based on your file structure\n",
    "                    for line in lines:\n",
    "                        # Append a dictionary with the specified label as the first column and the text as the second column\n",
    "                        data.append({'Label': label, 'Text': line.strip()})\n",
    "            except UnicodeDecodeError as e:\n",
    "                print(f\"Error decoding file {file_path}: {e}\")\n",
    "\n",
    "# Read files from the first main folder and label as \"ham\"\n",
    "read_files_from_main_folder(main_folder1, 'ham')\n",
    "\n",
    "# Read files from the second main folder and label as \"spam\"\n",
    "read_files_from_main_folder(main_folder2, 'spam')\n",
    "\n",
    "# Create a DataFrame from the collected data\n",
    "df = pd.DataFrame(data)\n",
    "\n",
    "# Save the DataFrame to a CSV file\n",
    "df.to_csv('output.csv', index=False)\n"
   ]
  },
  {
   "cell_type": "code",
   "execution_count": null,
   "id": "1a99782d",
   "metadata": {},
   "outputs": [],
   "source": []
  }
 ],
 "metadata": {
  "kernelspec": {
   "display_name": "Python 3 (ipykernel)",
   "language": "python",
   "name": "python3"
  },
  "language_info": {
   "codemirror_mode": {
    "name": "ipython",
    "version": 3
   },
   "file_extension": ".py",
   "mimetype": "text/x-python",
   "name": "python",
   "nbconvert_exporter": "python",
   "pygments_lexer": "ipython3",
   "version": "3.11.5"
  }
 },
 "nbformat": 4,
 "nbformat_minor": 5
}
