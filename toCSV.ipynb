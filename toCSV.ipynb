{
 "cells": [
  {
   "cell_type": "code",
   "execution_count": 2,
   "id": "3e71f4a9",
   "metadata": {},
   "outputs": [],
   "source": [
    "import pandas as pd\n",
    "import os\n",
    "\n",
    "enron1_spam = 'enron1/spam'\n",
    "enron2_spam = 'enron2/spam'\n",
    "enron1_ham = 'enron1/ham'\n",
    "enron2_ham = 'enron2/ham'\n",
    "\n",
    "data = []\n",
    "\n",
    "def read_files(folder_path, label):\n",
    "    for filename in os.listdir(folder_path):\n",
    "        if filename.endswith('.txt'):\n",
    "            file_path = os.path.join(folder_path, filename)\n",
    "            try:\n",
    "                with open(file_path, 'r', encoding='latin-1') as file:\n",
    "                    lines = file.readlines()\n",
    "                    for line in lines:\n",
    "                        data.append({'Label': label, 'Text': line.strip()})\n",
    "                        \n",
    "            except UnicodeDecodeError as e:\n",
    "                print(f\"Error decoding file {file_path}: {e}\")\n",
    "\n",
    "read_files(enron1_ham, 'ham')\n",
    "read_files(enron2_ham, 'ham')\n",
    "\n",
    "read_files(enron1_spam, 'spam')\n",
    "read_files(enron2_spam, 'spam')\n",
    "\n",
    "# Create a DataFrame from the collected data\n",
    "df = pd.DataFrame(data)\n",
    "\n",
    "# Save the DataFrame to a CSV file\n",
    "df.to_csv('output.csv', index=False)\n"
   ]
  },
  {
   "cell_type": "code",
   "execution_count": null,
   "id": "1a99782d",
   "metadata": {},
   "outputs": [],
   "source": []
  }
 ],
 "metadata": {
  "kernelspec": {
   "display_name": "Python 3 (ipykernel)",
   "language": "python",
   "name": "python3"
  },
  "language_info": {
   "codemirror_mode": {
    "name": "ipython",
    "version": 3
   },
   "file_extension": ".py",
   "mimetype": "text/x-python",
   "name": "python",
   "nbconvert_exporter": "python",
   "pygments_lexer": "ipython3",
   "version": "3.11.5"
  }
 },
 "nbformat": 4,
 "nbformat_minor": 5
}
